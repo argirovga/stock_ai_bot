{
 "cells": [
  {
   "cell_type": "markdown",
   "id": "d7370083",
   "metadata": {},
   "source": [
    "### Import"
   ]
  },
  {
   "cell_type": "code",
   "execution_count": 1,
   "id": "e535007c",
   "metadata": {},
   "outputs": [],
   "source": [
    "# class import\n",
    "import ccxt\n",
    "\n",
    "# basic\n",
    "import numpy as np\n",
    "import pandas as pd\n",
    "\n",
    "import matplotlib.pyplot as plt\n",
    "import seaborn as sns\n",
    "\n",
    "import os, sys\n",
    "\n",
    "import time"
   ]
  },
  {
   "cell_type": "code",
   "execution_count": 5,
   "id": "defc2c0c",
   "metadata": {},
   "outputs": [],
   "source": [
    "ex = ccxt.binance()                       # or binanceusdm/bybit/okx/etc.\n",
    "symbol, tf = 'ORCA/USDT', '1m'\n",
    "since = ex.parse8601('2025-03-01T00:00:00Z')\n",
    "all_rows = []\n",
    "while True:\n",
    "    batch = ex.fetch_ohlcv(symbol, timeframe=tf, since=since, limit=1000)\n",
    "    if not batch:\n",
    "        break\n",
    "    all_rows += batch\n",
    "    since = batch[-1][0] + 60_000         # next minute\n",
    "    time.sleep(ex.rateLimit / 1000)       # be nice to the API\n",
    "\n",
    "df = pd.DataFrame(all_rows, columns=['ts','Open','High','Low','Close','Volume'])\n",
    "df['ts'] = pd.to_datetime(df['ts'], unit='ms', utc=True)"
   ]
  },
  {
   "cell_type": "code",
   "execution_count": 6,
   "id": "7dbb7078",
   "metadata": {},
   "outputs": [],
   "source": [
    "df.to_parquet('data/raw_data/ORCA_USD_since_2025_03_01.parquet', index=False)"
   ]
  },
  {
   "cell_type": "code",
   "execution_count": 18,
   "id": "ea755753",
   "metadata": {},
   "outputs": [],
   "source": [
    "ex = ccxt.binance()                       # or binanceusdm/bybit/okx/etc.\n",
    "symbol, tf = 'ETH/USDT', '1m'\n",
    "since = ex.parse8601('2025-03-01T00:00:00Z')\n",
    "all_rows = []\n",
    "while True:\n",
    "    batch = ex.fetch_ohlcv(symbol, timeframe=tf, since=since, limit=1000)\n",
    "    if not batch:\n",
    "        break\n",
    "    all_rows += batch\n",
    "    since = batch[-1][0] + 60_000         # next minute\n",
    "    time.sleep(ex.rateLimit / 1000)       # be nice to the API\n",
    "\n",
    "df = pd.DataFrame(all_rows, columns=['ts','Open','High','Low','Close','Volume'])\n",
    "df['ts'] = pd.to_datetime(df['ts'], unit='ms', utc=True)"
   ]
  },
  {
   "cell_type": "code",
   "execution_count": 19,
   "id": "1edadeb6",
   "metadata": {},
   "outputs": [],
   "source": [
    "df.to_parquet('data/raw_data/ETH_USD_since_2025_03_01.parquet', index=False)"
   ]
  }
 ],
 "metadata": {
  "kernelspec": {
   "display_name": "stock_ai_env",
   "language": "python",
   "name": "python3"
  },
  "language_info": {
   "codemirror_mode": {
    "name": "ipython",
    "version": 3
   },
   "file_extension": ".py",
   "mimetype": "text/x-python",
   "name": "python",
   "nbconvert_exporter": "python",
   "pygments_lexer": "ipython3",
   "version": "3.13.2"
  }
 },
 "nbformat": 4,
 "nbformat_minor": 5
}
